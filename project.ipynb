{
  "cells": [
    {
      "cell_type": "code",
      "execution_count": null,
      "metadata": {
        "colab": {
          "base_uri": "https://localhost:8080/"
        },
        "id": "KdcuorEkN7iK",
        "outputId": "58926556-ceff-4c21-c929-3dcde6b1e4a1"
      },
      "outputs": [
        {
          "name": "stdout",
          "output_type": "stream",
          "text": [
            "Downloading...\n",
            "From: https://drive.google.com/uc?id=1GUI8x3Hxze1nqb1-Ban-tDtdfyLSSAhM\n",
            "To: /content/Img_file.zip\n",
            "\r  0% 0.00/15.2M [00:00<?, ?B/s]\r 97% 14.7M/15.2M [00:00<00:00, 147MB/s]\r100% 15.2M/15.2M [00:00<00:00, 148MB/s]\n"
          ]
        }
      ],
      "source": [
        "import os\n",
        "import zipfile\n",
        "import numpy as np\n",
        "import torch\n",
        "import torch.nn as nn\n",
        "\n",
        "\n",
        "import torch.optim as optim\n",
        "from torch.utils.data import Dataset, DataLoader\n",
        "import torchvision\n",
        "from torchvision import transforms\n",
        "\n",
        "import matplotlib.pyplot as plt\n",
        "from PIL import Image\n",
        "\n",
        "!gdown 1GUI8x3Hxze1nqb1-Ban-tDtdfyLSSAhM"
      ]
    },
    {
      "cell_type": "markdown",
      "metadata": {
        "id": "ley1y_7KOFrm"
      },
      "source": []
    },
    {
      "cell_type": "code",
      "execution_count": null,
      "metadata": {
        "id": "gZvTfnJAS-Vv"
      },
      "outputs": [],
      "source": [
        "#import training set\n",
        "FILE_PATH = '/content/extracted_files'\n",
        "with zipfile.ZipFile('/content/Img_file.zip', 'r') as ref:\n",
        "  ref.extractall(FILE_PATH)\n",
        "Categories = [os.listdir(\"/content/extracted_files/Img_file/\" + str(i)) for i in range(8)]\n"
      ]
    },
    {
      "cell_type": "code",
      "execution_count": null,
      "metadata": {
        "id": "ydqX4t7Yr8DX"
      },
      "outputs": [],
      "source": [
        "#create training and testing set\n",
        "from sklearn.model_selection import train_test_split\n",
        "S = []\n",
        "for i in range(len(Categories)):\n",
        "  for f in Categories[i]:\n",
        "    path = os.path.join(\"/content/extracted_files/Img_file/\"+str(i),f)\n",
        "    S.append((path,i))\n",
        "\n",
        "X = [each[0] for each in S]\n",
        "y = [each[1] for each in S]\n",
        "train_X,test_X,train_y,test_y = train_test_split(X, y, test_size=0.2)"
      ]
    },
    {
      "cell_type": "code",
      "execution_count": null,
      "metadata": {
        "id": "tLd1B4zhspx_"
      },
      "outputs": [],
      "source": [
        "#sample display\n",
        "CLASSNAME_8_LABEL = {0: \"anger\", 1: \"contempt\", 2: \"disgust\", 3: \"fear\", 4: \"happy\", 5: \"neutral\", 6: \"sad\", 7: \"surprise\"}\n",
        "\n",
        "for i in range(len(Categories)):\n",
        "  for f in Categories[i]:\n",
        "    path = os.path.join(\"/content/extracted_files/Img_file/\"+str(i),f)\n",
        "    image = Image.open(path)\n",
        "    label = CLASSNAME_8_LABEL[i]\n",
        "    plt.title(label, fontsize=12)\n",
        "    plt.imshow(image)\n",
        "    plt.show()\n",
        "    break\n",
        "\n"
      ]
    },
    {
      "cell_type": "code",
      "execution_count": null,
      "metadata": {
        "id": "fYWc-zeD2VyX"
      },
      "outputs": [],
      "source": [
        "SIZE = 224 #dataset code\n",
        "class emotionDmgDataset(Dataset):\n",
        "  def __init__(self,split,size = SIZE):\n",
        "     #super().__init__()\n",
        "     self.size = size\n",
        "     self.split = split\n",
        "\n",
        "  def __len__(self):\n",
        "    return int(0.2 * 800) if self.split == 'test' else int(0.8 * 800)\n",
        "\n",
        "  def __getitem__(self,idx):\n",
        "    if self.split == \"train\":\n",
        "      img_path = train_X[idx]\n",
        "      label = train_y[idx]\n",
        "    else:\n",
        "      img_path = test_X[idx]\n",
        "      label = test_y[idx]\n",
        "    img = Image.open(img_path)\n",
        "\n",
        "    allTransforms = transforms.Compose([\n",
        "            transforms.Resize(size  = (self.size, self.size)),\n",
        "            transforms.ToTensor(),\n",
        "            transforms.Normalize(mean = [0.485, 0.456, 0.406], std = [0.229, 0.224, 0.225])\n",
        "        ])\n",
        "    img = allTransforms(img)\n",
        "    img = torch.FloatTensor(img)\n",
        "    return img, label"
      ]
    },
    {
      "cell_type": "code",
      "execution_count": null,
      "metadata": {
        "id": "sL0wrGdw7QJU"
      },
      "outputs": [],
      "source": [
        "train_dataset = emotionDmgDataset(split = \"train\")\n",
        "test_dataset = emotionDmgDataset(split = \"test\")\n",
        "\n",
        "indices = list(range(4)) + list(range(len(train_dataset)-4, len(train_dataset)))\n",
        "fig, axes = plt.subplots(2, 4, figsize=(20, 10))\n",
        "axes_flat = axes.flatten()\n",
        "\n",
        "for i, id in enumerate(indices):\n",
        "\n",
        "    (image, label) = train_dataset[id]\n",
        "    image = torch.clip(image, min = 0, max = 1)\n",
        "    image = image.permute(1, 2, 0)\n",
        "\n",
        "    label_str = CLASSNAME_8_LABEL[label]\n",
        "    axes_flat[i].imshow(image)\n",
        "    axes_flat[i].set_title(f'train {id} ({label_str})')\n",
        "    axes_flat[i].axis('off')\n",
        "\n",
        "\n",
        "plt.show()\n",
        "\n",
        "\n"
      ]
    },
    {
      "cell_type": "code",
      "execution_count": null,
      "metadata": {
        "id": "-Ef6Ti0I-Jgr"
      },
      "outputs": [],
      "source": [
        "indices = list(range(4)) + list(range(len(test_dataset)-4, len(test_dataset)))\n",
        "fig, axes = plt.subplots(2, 4, figsize=(20, 10))\n",
        "axes_flat = axes.flatten()\n",
        "\n",
        "for i, id in enumerate(indices):\n",
        "\n",
        "    (image, label) = test_dataset[id]\n",
        "    image = torch.clip(image, min = 0, max = 1)\n",
        "    image = image.permute(1, 2, 0)\n",
        "\n",
        "    label_str = CLASSNAME_8_LABEL[label]\n",
        "    axes_flat[i].imshow(image)\n",
        "    axes_flat[i].set_title(f'train {id} ({label_str})')\n",
        "    axes_flat[i].axis('off')\n",
        "\n",
        "\n",
        "plt.show()"
      ]
    },
    {
      "cell_type": "code",
      "execution_count": null,
      "metadata": {
        "id": "WAzDKuzF-ZOH"
      },
      "outputs": [],
      "source": [
        "# [AG] defining the datasets, data-loaders, loss functions, and optimizers\n",
        "def createTrainingUtils(model):\n",
        "    trainDL, testDL, lossfn, opt = None, None, None, None\n",
        "\n",
        "    trainDL = DataLoader(emotionDmgDataset(\"train\"), batch_size = 16, shuffle = True)\n",
        "    testDL = DataLoader(emotionDmgDataset(\"test\"), batch_size = 16, shuffle = True)\n",
        "    lossfn = nn.CrossEntropyLoss()\n",
        "    opt = optim.Adam(model.parameters(), lr = 0.001)\n",
        "\n",
        "    return trainDL, testDL, lossfn, opt"
      ]
    },
    {
      "cell_type": "code",
      "execution_count": null,
      "metadata": {
        "id": "_STtOkW5-tKX"
      },
      "outputs": [],
      "source": [
        "class FCNN(nn.Module):\n",
        "    def __init__(self):\n",
        "        super().__init__()\n",
        "        # self.linear1 = nn.Linear(in_features = SIZE * SIZE * 3, out_features = SIZE * 3, bias = True)\n",
        "        # self.activation1 = nn.ReLU()\n",
        "        # self.linear2 = nn.Linear(in_features = SIZE * 3, out_features = 8, bias = True)\n",
        "        # self.activation2 = nn.Softmax(dim = 1)\n",
        "        self.mobilenet = None\n",
        "        self.finalActivation = None\n",
        "        self.mobilenet = torchvision.models.mobilenet_v2(weights=pretrained, progress=False)\n",
        "        self.mobilenet.classifier[1] = nn.Linear(in_features=1280, out_features=1, bias=True)\n",
        "\n",
        "        self.finalActivation = nn.Sigmoid()\n",
        "    def forward(self, x):\n",
        "        x = x.view(x.size(0), -1)\n",
        "        x = self.linear1(x)\n",
        "        x = self.activation1(x)\n",
        "        x = self.linear2(x)\n",
        "        y_hat = self.activation2(x)\n",
        "        return y_hat\n",
        "\n",
        "\n"
      ]
    },
    {
      "cell_type": "code",
      "execution_count": null,
      "metadata": {
        "id": "ZwEwstbCQafj"
      },
      "outputs": [],
      "source": [
        "\n",
        "def one_hot_h(x):\n",
        "    res = np.zeros(8)\n",
        "    res[x] = 1\n",
        "    return res\n",
        "\n",
        "def one_hot(y):\n",
        "    res = []\n",
        "    for i in range(len(y)):\n",
        "      res.append(one_hot_h(y[i]))\n",
        "    return torch.tensor(res, dtype = float)"
      ]
    },
    {
      "cell_type": "code",
      "execution_count": null,
      "metadata": {
        "id": "yBFvH2xhQq96"
      },
      "outputs": [],
      "source": [
        "one_hot([1,2])"
      ]
    },
    {
      "cell_type": "code",
      "execution_count": null,
      "metadata": {
        "id": "59CkmDPJ_KLJ"
      },
      "outputs": [],
      "source": [
        "class CNN(nn.Module):\n",
        "    def __init__(self):\n",
        "\n",
        "        super().__init__()\n",
        "        self.conv1 = nn.Conv2d(in_channels = 3, out_channels = 36, kernel_size = 2, padding = 1)\n",
        "        # self.pool = nn.MaxPool2d(2, 2)\n",
        "        self.conv2 = nn.Conv2d(in_channels = 36, out_channels = 36, kernel_size = 2, padding = 1)\n",
        "        self.conv3 = nn.Conv2d(in_channels = 36, out_channels = 36, kernel_size = 2, padding = 1)\n",
        "        self.conv4 = nn.Conv2d(in_channels = 36, out_channels = 36, kernel_size = 2, padding = 1)\n",
        "        self.conv5 = nn.Conv2d(in_channels = 36, out_channels = 36, kernel_size = 2, padding = 1)\n",
        "        self.conv6 = nn.Conv2d(in_channels = 36, out_channels = 36, kernel_size = 2, padding = 1)\n",
        "        self.conv7 = nn.Conv2d(in_channels = 36, out_channels = 36, kernel_size = 2, padding = 1)\n",
        "        self.linear = nn.Linear(in_features = 1920996, out_features = 8, bias = True)\n",
        "        self.activation = nn.Softmax()\n",
        "    def forward(self, x):\n",
        "        x = self.conv1(x)\n",
        "        # x = self.pool(x)\n",
        "        x = self.conv2(x)\n",
        "        # x = self.pool(x)\n",
        "        x = self.conv3(x)\n",
        "        # x = self.pool(x)\n",
        "        x = self.conv4(x)\n",
        "        # x = self.pool(x)\n",
        "        x = self.conv5(x)\n",
        "        # x = self.pool(x)\n",
        "        x = self.conv6(x)\n",
        "        # x = self.pool(x)\n",
        "        x = self.conv7(x)\n",
        "        # x = self.pool(x)\n",
        "        x = x.view(x.size(0), -1)\n",
        "        x = self.linear(x)\n",
        "        y_hat = self.activation(x)\n",
        "        return y_hat"
      ]
    },
    {
      "cell_type": "code",
      "execution_count": null,
      "metadata": {
        "id": "Mv9NsmMNKXCu"
      },
      "outputs": [],
      "source": [
        "def evalDL(model, dl, lossfn):\n",
        "\n",
        "    device = torch.device(\"cuda\" if torch.cuda.is_available() else \"cpu\")\n",
        "    model = model.to(device)\n",
        "\n",
        "    with torch.no_grad():\n",
        "        lossSum = 0\n",
        "        nCorrect = 0\n",
        "        for x, y in dl:\n",
        "            y = one_hot(y)\n",
        "            x = x.to(device)\n",
        "            y = y.to(device)\n",
        "            yhat = model(x)\n",
        "            print(\"yhat is\",yhat,yhat.shape)\n",
        "            print(\"y is\",y,y.shape)\n",
        "            lossSum += lossfn(yhat, y) * x.shape[0]\n",
        "            for i in range(len(y)):\n",
        "              pred = yhat[i]\n",
        "              val = y[i]\n",
        "              if torch.argmax(pred) == torch.argmax(val):\n",
        "                nCorrect += 1\n",
        "\n",
        "\n",
        "\n",
        "        numSamples = len(dl.dataset)\n",
        "        avgLoss = lossSum / numSamples\n",
        "        acc = nCorrect / numSamples\n",
        "    return avgLoss.item(),acc\n",
        "\n",
        "def evaluate(model, trainDL, validDL, lossfn):\n",
        "    trainLoss, trainAcc = evalDL(model, trainDL, lossfn)\n",
        "    validLoss, validAcc = evalDL(model, validDL, lossfn)\n",
        "    return trainLoss, trainAcc, validLoss, validAcc"
      ]
    },
    {
      "cell_type": "code",
      "execution_count": null,
      "metadata": {
        "id": "2CIv56cSKaQ7"
      },
      "outputs": [],
      "source": [
        "\n",
        "def train(model, trainDL, validDL, lossfn, opt, epochs=10):\n",
        "\n",
        "\n",
        "    trainLosses = []\n",
        "    trainAccs   = []\n",
        "    validLosses = []\n",
        "    validAccs   = []\n",
        "    device = torch.device(\"cuda\" if torch.cuda.is_available() else \"cpu\")\n",
        "\n",
        "\n",
        "    trainLoss, trainAcc, validLoss, validAcc = evaluate(model, trainDL, validDL, lossfn)\n",
        "    trainLosses.append(trainLoss)\n",
        "    trainAccs.append(trainAcc)\n",
        "    validLosses.append(validLoss)\n",
        "    validAccs.append(validAcc)\n",
        "    print(f\"Initial Model: train-loss={trainLoss:<4.2f} train-acc={trainAcc:<4.2f} valid-loss={validLoss:<4.2f} valid-acc={validAcc:<4.2f}\")\n",
        "\n",
        "    model.to(device)\n",
        "\n",
        "    for e in range(epochs):\n",
        "        for X, y in trainDL:\n",
        "\n",
        "            y = one_hot(y)\n",
        "\n",
        "            X, y = X.to(device), y.to(device)\n",
        "            opt.zero_grad()\n",
        "            y_hat = model.forward(X)\n",
        "\n",
        "            loss = lossfn(y_hat, y)\n",
        "            loss.backward()\n",
        "            opt.step()\n",
        "            print(f\"epoch: {e}, loss = {loss}\")\n",
        "\n",
        "\n",
        "\n",
        "\n",
        "        trainLoss, trainAcc, validLoss, validAcc = evaluate(model, trainDL, validDL, lossfn)\n",
        "        trainLosses.append(trainLoss)\n",
        "        trainAccs.append(trainAcc)\n",
        "        validLosses.append(validLoss)\n",
        "        validAccs.append(validAcc)\n",
        "        print(f\"Epoch {e:>4d}: train-loss={trainLoss:<4.2f} train-acc={trainAcc:<4.2f} valid-loss={validLoss:<4.2f} valid-acc={validAcc:<4.2f}\")\n",
        "\n",
        "    return model, trainLosses, trainAccs, validLosses, validAccs"
      ]
    },
    {
      "cell_type": "code",
      "execution_count": null,
      "metadata": {
        "id": "1huh7N8fL5sk"
      },
      "outputs": [],
      "source": [
        "def plotStatistics(epochs, trainLosses, trainAccs, validLosses, validAccs):\n",
        "    fig, axes = plt.subplots(1,2)\n",
        "    xdata = np.arange(epochs+1)\n",
        "    fig.subplots_adjust(wspace=0.4)\n",
        "\n",
        "    # plot the losses\n",
        "    axis = axes[0]\n",
        "    axis.plot(xdata, trainLosses, label=\"Train\")\n",
        "    axis.plot(xdata, validLosses, label=\"Valid\")\n",
        "    axis.set_xlabel(\"# Epochs\")\n",
        "    axis.set_ylabel(\"Average Loss\")\n",
        "    axis.grid()\n",
        "    axis.legend()\n",
        "\n",
        "    # plot the accuracies\n",
        "    axis = axes[1]\n",
        "    axis.plot(xdata, trainAccs, label=\"Train\")\n",
        "    axis.plot(xdata, validAccs, label=\"Valid\")\n",
        "    axis.set_xlabel(\"# Epochs\")\n",
        "    axis.set_ylabel(\"Accuracy\")\n",
        "    axis.grid()\n",
        "    axis.legend()"
      ]
    },
    {
      "cell_type": "code",
      "execution_count": null,
      "metadata": {
        "id": "hWuQX3jg3mlF"
      },
      "outputs": [],
      "source": [
        "import torchvision.models as models\n",
        "modelf = models.mobilenet_v2(pretrained=False)\n",
        "\n",
        "class HotdogMobileNet(nn.Module):\n",
        "    def __init__(self, pretrained=False):\n",
        "        '''Initializer for the MobileNet model to predict on the HotdogDataset\n",
        "\n",
        "        1. load the mobilenet_v2 model (you will have to load weights depending on input pretrained)\n",
        "        2. modify the final linear layer of the classifier to output 1 unit\n",
        "        3. create a new final activation layer to turn the single output of the modified Mobilenet into a probability\n",
        "            - we do this because MobileNet itself doesn't have any final activation layer\n",
        "            - you will have to choose the appropriate activation for this last part\n",
        "\n",
        "        Note: when loading the mobilenet model, set progress=False to avoid messing up the autograder\n",
        "\n",
        "        Arguments:\n",
        "            - pretrained: boolean indicating whether to use pre-trained weights on ImageNet (weights=\"MobileNet_V2_Weights.IMAGENET1K_V1\")\n",
        "                          or random weights but still using the model architecture (weights=None)\n",
        "        '''\n",
        "        super().__init__()\n",
        "        self.mobilenet = None\n",
        "        self.finalActivation = None\n",
        "        self.mobilenet = torchvision.models.mobilenet_v2(weights=pretrained, progress=False)\n",
        "        self.mobilenet.classifier[1] = nn.Linear(in_features=1280, out_features=1, bias=True)\n",
        "\n",
        "        self.finalActivation = nn.Sigmoid()\n",
        "\n",
        "\n",
        "    def forward(self, x):\n",
        "        x = self.mobilenet(x)\n",
        "        yhat = self.finalActivation(x)\n",
        "        return yhat"
      ]
    },
    {
      "cell_type": "code",
      "execution_count": null,
      "metadata": {
        "id": "1-_0OZQXMHEj"
      },
      "outputs": [],
      "source": [
        "\n",
        "\n",
        "def trainAndPlot():\n",
        "    model = modelf\n",
        "    trainDL, validDL, lossfn, opt = createTrainingUtils(model)\n",
        "    model, trainLosses, trainAccs, validLosses, validAccs = train(model, trainDL, validDL, lossfn, opt, epochs=10)\n",
        "    plotStatistics(10, trainLosses, trainAccs, validLosses, validAccs)\n",
        "\n",
        "    return model\n"
      ]
    },
    {
      "cell_type": "code",
      "execution_count": null,
      "metadata": {
        "colab": {
          "background_save": true
        },
        "id": "OJIltakVMgBY"
      },
      "outputs": [],
      "source": [
        "trainAndPlot()"
      ]
    },
    {
      "cell_type": "code",
      "execution_count": null,
      "metadata": {
        "id": "UuirirIqbmGl"
      },
      "outputs": [],
      "source": []
    },
    {
      "cell_type": "code",
      "execution_count": null,
      "metadata": {
        "id": "SCE5mwYubwgM"
      },
      "outputs": [],
      "source": [
        "\n"
      ]
    },
    {
      "cell_type": "code",
      "execution_count": null,
      "metadata": {
        "id": "MC8ZaAnhdpcj"
      },
      "outputs": [],
      "source": []
    }
  ],
  "metadata": {
    "accelerator": "GPU",
    "colab": {
      "gpuType": "T4",
      "provenance": []
    },
    "kernelspec": {
      "display_name": "Python 3",
      "name": "python3"
    },
    "language_info": {
      "name": "python"
    }
  },
  "nbformat": 4,
  "nbformat_minor": 0
}